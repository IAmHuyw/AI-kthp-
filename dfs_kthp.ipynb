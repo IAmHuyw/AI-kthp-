{
  "nbformat": 4,
  "nbformat_minor": 0,
  "metadata": {
    "colab": {
      "provenance": []
    },
    "kernelspec": {
      "name": "python3",
      "display_name": "Python 3"
    },
    "language_info": {
      "name": "python"
    }
  },
  "cells": [
    {
      "cell_type": "code",
      "source": [
        "def solve_maze(maze, start_row, start_col, end_row, end_col):\n",
        "    rows = len(maze)\n",
        "    cols = len(maze[0])\n",
        "    visited = [[False] * cols for _ in range(rows)]\n",
        "    path = []\n",
        "\n",
        "    def dfs(row, col):\n",
        "        # Kiểm tra ô hiện tại có hợp lệ không\n",
        "        if row < 0 or row >= rows or col < 0 or col >= cols or maze[row][col] == 1 or visited[row][col]:\n",
        "            return False\n",
        "\n",
        "        visited[row][col] = True\n",
        "        path.append((row, col))\n",
        "\n",
        "        # Kiểm tra nếu đã đến đích\n",
        "        if row == end_row and col == end_col:\n",
        "            print(\"Đường đi tìm thấy: \", path)\n",
        "            return True\n",
        "\n",
        "        # Thử di chuyển theo 4 hướng\n",
        "        directions = [(-1, 0), (1, 0), (0, -1), (0, 1)] #lên xuống trái phải\n",
        "        for dr, dc in directions:\n",
        "            if dfs(row + dr, col + dc):\n",
        "                return True\n",
        "\n",
        "        # Quay lui nếu không tìm thấy đường\n",
        "        path.pop()\n",
        "        return False\n",
        "\n",
        "    return dfs(start_row, start_col)\n",
        "\n",
        "# Ví dụ sử dụng\n",
        "maze = [\n",
        "    [0, 1, 0, 1],\n",
        "    [0, 0, 0, 1],\n",
        "    [0, 1, 0, 0],\n",
        "    [0, 1, 0, 0]\n",
        "]\n",
        "start_row, start_col = 0, 0\n",
        "end_row, end_col = 3, 3\n",
        "\n",
        "if solve_maze(maze, start_row, start_col, end_row, end_col):\n",
        "    print(\"Tìm thấy đường đi!\")\n",
        "else:\n",
        "    print(\"Không tìm thấy đường đi!\")"
      ],
      "metadata": {
        "id": "4G--EMSi6mkC",
        "outputId": "eaa52963-797f-456c-f48d-8688dbd5fa38",
        "colab": {
          "base_uri": "https://localhost:8080/"
        }
      },
      "execution_count": null,
      "outputs": [
        {
          "output_type": "stream",
          "name": "stdout",
          "text": [
            "Đường đi tìm thấy:  [(0, 0), (1, 0), (1, 1), (1, 2), (2, 2), (3, 2), (3, 3)]\n",
            "Tìm thấy đường đi!\n"
          ]
        }
      ]
    }
  ]
}