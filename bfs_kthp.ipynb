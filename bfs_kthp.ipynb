{
  "nbformat": 4,
  "nbformat_minor": 0,
  "metadata": {
    "colab": {
      "provenance": []
    },
    "kernelspec": {
      "name": "python3",
      "display_name": "Python 3"
    },
    "language_info": {
      "name": "python"
    }
  },
  "cells": [
    {
      "cell_type": "code",
      "execution_count": null,
      "metadata": {
        "id": "XgA_5Lcer3H0",
        "outputId": "b5990066-1743-45be-e6c0-96e3266d9659",
        "colab": {
          "base_uri": "https://localhost:8080/"
        }
      },
      "outputs": [
        {
          "output_type": "stream",
          "name": "stdout",
          "text": [
            "Đường đi tìm thấy: [(0, 0), (1, 0), (1, 1), (1, 2), (2, 2), (3, 2), (3, 3)]\n"
          ]
        },
        {
          "output_type": "execute_result",
          "data": {
            "text/plain": [
              "True"
            ]
          },
          "metadata": {},
          "execution_count": 1
        }
      ],
      "source": [
        "from collections import deque\n",
        "\n",
        "def solve_maze_bfs(maze, start_row, start_col, end_row, end_col):\n",
        "    rows = len(maze)\n",
        "    cols = len(maze[0])\n",
        "    visited = [[False] * cols for _ in range(rows)]\n",
        "    parent = [[None] * cols for _ in range(rows)]\n",
        "\n",
        "    # Khởi tạo hàng đợi BFS\n",
        "    queue = deque()\n",
        "    queue.append((start_row, start_col))\n",
        "    visited[start_row][start_col] = True\n",
        "\n",
        "    # Các hướng di chuyển: lên, xuống, trái, phải\n",
        "    directions = [(-1, 0), (1, 0), (0, -1), (0, 1)]\n",
        "\n",
        "    while queue:\n",
        "        row, col = queue.popleft()\n",
        "\n",
        "        if row == end_row and col == end_col:\n",
        "            # Tìm thấy đích, truy vết đường đi\n",
        "            path = []\n",
        "            while (row, col) != (None, None):\n",
        "                path.append((row, col))\n",
        "                if parent[row][col] is not None:\n",
        "                    row, col = parent[row][col]\n",
        "                else:\n",
        "                    row, col = None, None\n",
        "            path.reverse()\n",
        "            print(\"Đường đi tìm thấy:\", path)\n",
        "            return True\n",
        "\n",
        "        for dr, dc in directions:\n",
        "            new_row, new_col = row + dr, col + dc\n",
        "            if (0 <= new_row < rows and 0 <= new_col < cols and\n",
        "                not visited[new_row][new_col] and maze[new_row][new_col] == 0):\n",
        "                queue.append((new_row, new_col))\n",
        "                visited[new_row][new_col] = True\n",
        "                parent[new_row][new_col] = (row, col)\n",
        "\n",
        "    print(\"Không tìm thấy đường đi!\")\n",
        "    return False\n",
        "\n",
        "# Ví dụ sử dụng\n",
        "maze = [\n",
        "    [0, 1, 0, 1],\n",
        "    [0, 0, 0, 1],\n",
        "    [0, 1, 0, 0],\n",
        "    [0, 1, 0, 0]\n",
        "]\n",
        "start_row, start_col = 0, 0\n",
        "end_row, end_col = 3, 3\n",
        "\n",
        "solve_maze_bfs(maze, start_row, start_col, end_row, end_col)"
      ]
    }
  ]
}