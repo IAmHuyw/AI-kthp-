{
  "nbformat": 4,
  "nbformat_minor": 0,
  "metadata": {
    "colab": {
      "provenance": []
    },
    "kernelspec": {
      "name": "python3",
      "display_name": "Python 3"
    },
    "language_info": {
      "name": "python"
    }
  },
  "cells": [
    {
      "cell_type": "code",
      "source": [
        "class Node:\n",
        "  def __init__(self, ten, Cha=None):\n",
        "    self.ten = ten\n",
        "    self.Cha = Cha\n",
        "\n",
        "from collections import defaultdict\n",
        "\n",
        "data = defaultdict(list)\n",
        "data['A'] = ['B', 'C', 'D']\n",
        "data['B'] = ['H', 'I']\n",
        "data['C'] = ['E', 'F']\n",
        "data['D'] = ['G']\n",
        "data['F'] = ['J', 'K']\n",
        "\n",
        "# Kiểm tra xem một node đã nằm trong danh sách chưa\n",
        "def kiemTra(tam, MO):\n",
        "  for v in MO:\n",
        "    if v.ten == tam.ten:\n",
        "      return True\n",
        "  return False\n",
        "\n",
        "# In đường đi từ gốc đến node hiện tại\n",
        "def DuongDi(n):\n",
        "  duong = []\n",
        "  while n is not None:\n",
        "    duong.append(n.ten)\n",
        "    n = n.Cha\n",
        "  duong.reverse()\n",
        "  print(\" --> \".join(duong))\n",
        "\n",
        "# Thuật toán DFS\n",
        "def DFS(To, Tg):\n",
        "  MO = []\n",
        "  DONG = []\n",
        "  MO.append(To)\n",
        "\n",
        "  while True:\n",
        "    if len(MO) == 0:\n",
        "      print('Tìm kiếm không thành công')\n",
        "      return\n",
        "    n = MO.pop(0)\n",
        "    if n.ten in Tg:\n",
        "      print(f\"Đã tìm thấy đường đến: {n.ten}\")\n",
        "      DuongDi(n)\n",
        "      return\n",
        "\n",
        "    DONG.append(n)\n",
        "    # Duyệt các con của n\n",
        "    for v in reversed(data[n.ten]):  # Duyệt ngược để đúng thứ tự DFS\n",
        "      tam = Node(v)\n",
        "      if not kiemTra(tam, MO) and not kiemTra(tam, DONG):\n",
        "        tam.Cha = n  # Gán Cha trước\n",
        "        MO.insert(0, tam)  # Stack: thêm vào đầu danh sách\n",
        "To = Node('A')\n",
        "Tg = {'I', 'G', 'K'}\n",
        "DFS(To, Tg)"
      ],
      "metadata": {
        "colab": {
          "base_uri": "https://localhost:8080/"
        },
        "id": "VKk3RyxayFfR",
        "outputId": "e5ba04de-6f29-4e33-bea5-89d97bee7674"
      },
      "execution_count": null,
      "outputs": [
        {
          "output_type": "stream",
          "name": "stdout",
          "text": [
            "Đã tìm thấy đường đến: I\n",
            "A --> B --> I\n"
          ]
        }
      ]
    }
  ]
}