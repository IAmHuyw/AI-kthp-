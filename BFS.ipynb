{
  "nbformat": 4,
  "nbformat_minor": 0,
  "metadata": {
    "colab": {
      "provenance": []
    },
    "kernelspec": {
      "name": "python3",
      "display_name": "Python 3"
    },
    "language_info": {
      "name": "python"
    }
  },
  "cells": [
    {
      "cell_type": "code",
      "execution_count": 1,
      "metadata": {
        "id": "Z9XEC4pafylB",
        "colab": {
          "base_uri": "https://localhost:8080/"
        },
        "outputId": "549c3f0b-08bb-4dfe-f33c-913d73ddedac"
      },
      "outputs": [
        {
          "output_type": "stream",
          "name": "stdout",
          "text": [
            "Đã tìm thấy đường đến: I\n",
            "A --> B --> I\n"
          ]
        }
      ],
      "source": [
        "class Node:\n",
        "  def __init__(self, ten, Cha = None):\n",
        "    self.ten = ten\n",
        "    self.Cha = Cha\n",
        "  def display(self):\n",
        "    print(self.ten)\n",
        "\n",
        "from collections import defaultdict\n",
        "data = defaultdict(list)\n",
        "data['A'] = ['B', 'C', 'D']\n",
        "data['B'] = ['H', 'I']\n",
        "data['C'] = ['E', 'F']\n",
        "data['D'] = ['G']\n",
        "data['F'] = ['J', 'K']\n",
        "\n",
        "def kiemTra(tam, MO):\n",
        "  for v in MO:\n",
        "    if v.ten == tam.ten:\n",
        "      return True\n",
        "    return False\n",
        "def DuongDi(n):\n",
        "  duong = []\n",
        "  while n is not None:\n",
        "    duong.append(n.ten)\n",
        "    n = n.Cha\n",
        "  duong.reverse()\n",
        "  print(\" --> \".join(duong))\n",
        "\n",
        "def BFS (To, Tg):\n",
        "  MO = []\n",
        "  DONG = []\n",
        "  MO.append(To)\n",
        "\n",
        "  while True:\n",
        "    if len(MO) == 0:\n",
        "        print('Tìm kiếm không thành công')\n",
        "        return\n",
        "    n = MO.pop(0)\n",
        "    if n.ten in Tg:\n",
        "      print(f\"Đã tìm thấy đường đến: {n.ten}\")\n",
        "      DuongDi(n)\n",
        "      return\n",
        "\n",
        "    DONG.append(n)\n",
        "    for v in data[n.ten]:\n",
        "      tam = Node(v)\n",
        "      if not kiemTra(tam, MO) and not kiemTra(tam, DONG):\n",
        "        tam.Cha = n\n",
        "        MO.append(tam)\n",
        "\n",
        "To = Node('A')\n",
        "Tg = {'I', 'G', 'K'}\n",
        "BFS(To, Tg)"
      ]
    }
  ]
}